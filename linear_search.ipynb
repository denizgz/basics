{
 "cells": [
  {
   "cell_type": "markdown",
   "metadata": {},
   "source": [
    "# What is a linear search? \n",
    "Linear Search is defined as a sequential search algorithm that starts at one end and goes through each element of a list until the desired element is found, otherwise the search continues till the end of the data set. It is the easiest searching algorithm\n",
    "\n",
    "### Problem Statement: \n",
    "Iterate from 0 to N-1 and compare the value of every index with x if they match return index\n",
    "\n",
    "### Linear Search Algorithm\n",
    "Start from the leftmost element of arr[] and one by one compare x with each element of arr[]\n",
    "If x matches with an element, return the index.\n",
    "If x doesn’t match with any of the elements, return -1.\n",
    "\n"
   ]
  },
  {
   "cell_type": "code",
   "execution_count": 21,
   "metadata": {},
   "outputs": [],
   "source": [
    "def search(arr, N, x):\n",
    "     \n",
    "    for i in range(0, N):\n",
    "        if (arr[i] == x):\n",
    "            return i\n",
    "    return -1\n",
    " "
   ]
  },
  {
   "cell_type": "code",
   "execution_count": 23,
   "metadata": {},
   "outputs": [
    {
     "data": {
      "text/plain": [
       "0"
      ]
     },
     "execution_count": 23,
     "metadata": {},
     "output_type": "execute_result"
    }
   ],
   "source": [
    "arr = [1,2,3,4,5,6,7,8,9]\n",
    "search(arr, 1, 1)"
   ]
  },
  {
   "cell_type": "code",
   "execution_count": null,
   "metadata": {},
   "outputs": [],
   "source": []
  }
 ],
 "metadata": {
  "kernelspec": {
   "display_name": "Python 3.9.13 64-bit (windows store)",
   "language": "python",
   "name": "python3"
  },
  "language_info": {
   "codemirror_mode": {
    "name": "ipython",
    "version": 3
   },
   "file_extension": ".py",
   "mimetype": "text/x-python",
   "name": "python",
   "nbconvert_exporter": "python",
   "pygments_lexer": "ipython3",
   "version": "3.9.13"
  },
  "orig_nbformat": 4,
  "vscode": {
   "interpreter": {
    "hash": "c1f91e161b9a6eaa1d5638437fb1fccb069d9bc92749e2a5e7418fe82ef1af98"
   }
  }
 },
 "nbformat": 4,
 "nbformat_minor": 2
}
